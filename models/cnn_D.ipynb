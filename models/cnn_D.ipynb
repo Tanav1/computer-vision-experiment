{
  "cells": [
    {
      "cell_type": "markdown",
      "source": [
        "# Preprocessing\n"
      ],
      "metadata": {
        "id": "ybKHQ7SGId62"
      }
    },
    {
      "cell_type": "code",
      "execution_count": 2,
      "metadata": {
        "colab": {
          "base_uri": "https://localhost:8080/"
        },
        "id": "hKxduUqBPORH",
        "outputId": "4db7675a-fef7-4164-ca5a-02d3205c64c6",
        "collapsed": true
      },
      "outputs": [
        {
          "output_type": "stream",
          "name": "stdout",
          "text": [
            "Requirement already satisfied: keras_tuner in /usr/local/lib/python3.10/dist-packages (1.4.7)\n",
            "Requirement already satisfied: keras in /usr/local/lib/python3.10/dist-packages (from keras_tuner) (3.5.0)\n",
            "Requirement already satisfied: packaging in /usr/local/lib/python3.10/dist-packages (from keras_tuner) (24.2)\n",
            "Requirement already satisfied: requests in /usr/local/lib/python3.10/dist-packages (from keras_tuner) (2.32.3)\n",
            "Requirement already satisfied: kt-legacy in /usr/local/lib/python3.10/dist-packages (from keras_tuner) (1.0.5)\n",
            "Requirement already satisfied: absl-py in /usr/local/lib/python3.10/dist-packages (from keras->keras_tuner) (1.4.0)\n",
            "Requirement already satisfied: numpy in /usr/local/lib/python3.10/dist-packages (from keras->keras_tuner) (1.26.4)\n",
            "Requirement already satisfied: rich in /usr/local/lib/python3.10/dist-packages (from keras->keras_tuner) (13.9.4)\n",
            "Requirement already satisfied: namex in /usr/local/lib/python3.10/dist-packages (from keras->keras_tuner) (0.0.8)\n",
            "Requirement already satisfied: h5py in /usr/local/lib/python3.10/dist-packages (from keras->keras_tuner) (3.12.1)\n",
            "Requirement already satisfied: optree in /usr/local/lib/python3.10/dist-packages (from keras->keras_tuner) (0.13.1)\n",
            "Requirement already satisfied: ml-dtypes in /usr/local/lib/python3.10/dist-packages (from keras->keras_tuner) (0.4.1)\n",
            "Requirement already satisfied: charset-normalizer<4,>=2 in /usr/local/lib/python3.10/dist-packages (from requests->keras_tuner) (3.4.0)\n",
            "Requirement already satisfied: idna<4,>=2.5 in /usr/local/lib/python3.10/dist-packages (from requests->keras_tuner) (3.10)\n",
            "Requirement already satisfied: urllib3<3,>=1.21.1 in /usr/local/lib/python3.10/dist-packages (from requests->keras_tuner) (2.2.3)\n",
            "Requirement already satisfied: certifi>=2017.4.17 in /usr/local/lib/python3.10/dist-packages (from requests->keras_tuner) (2024.8.30)\n",
            "Requirement already satisfied: typing-extensions>=4.5.0 in /usr/local/lib/python3.10/dist-packages (from optree->keras->keras_tuner) (4.12.2)\n",
            "Requirement already satisfied: markdown-it-py>=2.2.0 in /usr/local/lib/python3.10/dist-packages (from rich->keras->keras_tuner) (3.0.0)\n",
            "Requirement already satisfied: pygments<3.0.0,>=2.13.0 in /usr/local/lib/python3.10/dist-packages (from rich->keras->keras_tuner) (2.18.0)\n",
            "Requirement already satisfied: mdurl~=0.1 in /usr/local/lib/python3.10/dist-packages (from markdown-it-py>=2.2.0->rich->keras->keras_tuner) (0.1.2)\n",
            "Requirement already satisfied: tensorflow in /usr/local/lib/python3.10/dist-packages (2.17.1)\n",
            "Requirement already satisfied: absl-py>=1.0.0 in /usr/local/lib/python3.10/dist-packages (from tensorflow) (1.4.0)\n",
            "Requirement already satisfied: astunparse>=1.6.0 in /usr/local/lib/python3.10/dist-packages (from tensorflow) (1.6.3)\n",
            "Requirement already satisfied: flatbuffers>=24.3.25 in /usr/local/lib/python3.10/dist-packages (from tensorflow) (24.3.25)\n",
            "Requirement already satisfied: gast!=0.5.0,!=0.5.1,!=0.5.2,>=0.2.1 in /usr/local/lib/python3.10/dist-packages (from tensorflow) (0.6.0)\n",
            "Requirement already satisfied: google-pasta>=0.1.1 in /usr/local/lib/python3.10/dist-packages (from tensorflow) (0.2.0)\n",
            "Requirement already satisfied: h5py>=3.10.0 in /usr/local/lib/python3.10/dist-packages (from tensorflow) (3.12.1)\n",
            "Requirement already satisfied: libclang>=13.0.0 in /usr/local/lib/python3.10/dist-packages (from tensorflow) (18.1.1)\n",
            "Requirement already satisfied: ml-dtypes<0.5.0,>=0.3.1 in /usr/local/lib/python3.10/dist-packages (from tensorflow) (0.4.1)\n",
            "Requirement already satisfied: opt-einsum>=2.3.2 in /usr/local/lib/python3.10/dist-packages (from tensorflow) (3.4.0)\n",
            "Requirement already satisfied: packaging in /usr/local/lib/python3.10/dist-packages (from tensorflow) (24.2)\n",
            "Requirement already satisfied: protobuf!=4.21.0,!=4.21.1,!=4.21.2,!=4.21.3,!=4.21.4,!=4.21.5,<5.0.0dev,>=3.20.3 in /usr/local/lib/python3.10/dist-packages (from tensorflow) (4.25.5)\n",
            "Requirement already satisfied: requests<3,>=2.21.0 in /usr/local/lib/python3.10/dist-packages (from tensorflow) (2.32.3)\n",
            "Requirement already satisfied: setuptools in /usr/local/lib/python3.10/dist-packages (from tensorflow) (75.1.0)\n",
            "Requirement already satisfied: six>=1.12.0 in /usr/local/lib/python3.10/dist-packages (from tensorflow) (1.16.0)\n",
            "Requirement already satisfied: termcolor>=1.1.0 in /usr/local/lib/python3.10/dist-packages (from tensorflow) (2.5.0)\n",
            "Requirement already satisfied: typing-extensions>=3.6.6 in /usr/local/lib/python3.10/dist-packages (from tensorflow) (4.12.2)\n",
            "Requirement already satisfied: wrapt>=1.11.0 in /usr/local/lib/python3.10/dist-packages (from tensorflow) (1.17.0)\n",
            "Requirement already satisfied: grpcio<2.0,>=1.24.3 in /usr/local/lib/python3.10/dist-packages (from tensorflow) (1.68.1)\n",
            "Requirement already satisfied: tensorboard<2.18,>=2.17 in /usr/local/lib/python3.10/dist-packages (from tensorflow) (2.17.1)\n",
            "Requirement already satisfied: keras>=3.2.0 in /usr/local/lib/python3.10/dist-packages (from tensorflow) (3.5.0)\n",
            "Requirement already satisfied: tensorflow-io-gcs-filesystem>=0.23.1 in /usr/local/lib/python3.10/dist-packages (from tensorflow) (0.37.1)\n",
            "Requirement already satisfied: numpy<2.0.0,>=1.23.5 in /usr/local/lib/python3.10/dist-packages (from tensorflow) (1.26.4)\n",
            "Requirement already satisfied: wheel<1.0,>=0.23.0 in /usr/local/lib/python3.10/dist-packages (from astunparse>=1.6.0->tensorflow) (0.45.1)\n",
            "Requirement already satisfied: rich in /usr/local/lib/python3.10/dist-packages (from keras>=3.2.0->tensorflow) (13.9.4)\n",
            "Requirement already satisfied: namex in /usr/local/lib/python3.10/dist-packages (from keras>=3.2.0->tensorflow) (0.0.8)\n",
            "Requirement already satisfied: optree in /usr/local/lib/python3.10/dist-packages (from keras>=3.2.0->tensorflow) (0.13.1)\n",
            "Requirement already satisfied: charset-normalizer<4,>=2 in /usr/local/lib/python3.10/dist-packages (from requests<3,>=2.21.0->tensorflow) (3.4.0)\n",
            "Requirement already satisfied: idna<4,>=2.5 in /usr/local/lib/python3.10/dist-packages (from requests<3,>=2.21.0->tensorflow) (3.10)\n",
            "Requirement already satisfied: urllib3<3,>=1.21.1 in /usr/local/lib/python3.10/dist-packages (from requests<3,>=2.21.0->tensorflow) (2.2.3)\n",
            "Requirement already satisfied: certifi>=2017.4.17 in /usr/local/lib/python3.10/dist-packages (from requests<3,>=2.21.0->tensorflow) (2024.8.30)\n",
            "Requirement already satisfied: markdown>=2.6.8 in /usr/local/lib/python3.10/dist-packages (from tensorboard<2.18,>=2.17->tensorflow) (3.7)\n",
            "Requirement already satisfied: tensorboard-data-server<0.8.0,>=0.7.0 in /usr/local/lib/python3.10/dist-packages (from tensorboard<2.18,>=2.17->tensorflow) (0.7.2)\n",
            "Requirement already satisfied: werkzeug>=1.0.1 in /usr/local/lib/python3.10/dist-packages (from tensorboard<2.18,>=2.17->tensorflow) (3.1.3)\n",
            "Requirement already satisfied: MarkupSafe>=2.1.1 in /usr/local/lib/python3.10/dist-packages (from werkzeug>=1.0.1->tensorboard<2.18,>=2.17->tensorflow) (3.0.2)\n",
            "Requirement already satisfied: markdown-it-py>=2.2.0 in /usr/local/lib/python3.10/dist-packages (from rich->keras>=3.2.0->tensorflow) (3.0.0)\n",
            "Requirement already satisfied: pygments<3.0.0,>=2.13.0 in /usr/local/lib/python3.10/dist-packages (from rich->keras>=3.2.0->tensorflow) (2.18.0)\n",
            "Requirement already satisfied: mdurl~=0.1 in /usr/local/lib/python3.10/dist-packages (from markdown-it-py>=2.2.0->rich->keras>=3.2.0->tensorflow) (0.1.2)\n"
          ]
        }
      ],
      "source": [
        "!pip install keras_tuner\n",
        "!pip install tensorflow\n",
        "\n",
        "import numpy as np\n",
        "import os\n",
        "import sys\n",
        "import keras_tuner as kt\n",
        "from tensorflow.keras import layers, models\n",
        "import tensorflow as tf\n",
        "from tensorflow.keras.callbacks import EarlyStopping, ReduceLROnPlateau\n",
        "from tensorflow.keras.models import load_model\n"
      ]
    },
    {
      "cell_type": "code",
      "execution_count": 3,
      "metadata": {
        "colab": {
          "base_uri": "https://localhost:8080/"
        },
        "id": "ETVfoIyrPP6O",
        "outputId": "8712e839-78a2-46bc-c145-b7f7ac98589d",
        "collapsed": true
      },
      "outputs": [
        {
          "output_type": "stream",
          "name": "stdout",
          "text": [
            "Cloning into '207_final'...\n",
            "remote: Enumerating objects: 355, done.\u001b[K\n",
            "remote: Counting objects: 100% (176/176), done.\u001b[K\n",
            "remote: Compressing objects: 100% (101/101), done.\u001b[K\n",
            "remote: Total 355 (delta 102), reused 133 (delta 72), pack-reused 179 (from 1)\u001b[K\n",
            "Receiving objects: 100% (355/355), 147.53 MiB | 15.92 MiB/s, done.\n",
            "Resolving deltas: 100% (176/176), done.\n"
          ]
        }
      ],
      "source": [
        "import numpy as np\n",
        "import os\n",
        "import sys\n",
        "from google.colab import userdata\n",
        "s = userdata.get('ghkey')\n",
        "with open('./github_token', 'wb') as f:\n",
        "  f.write(bytes(s, 'utf'))\n",
        "!rm -rf /content/207_final\n",
        "!git clone https://oauth2:$(cat ./github_token)@github.com/numbersrcool/207_final.git"
      ]
    },
    {
      "cell_type": "code",
      "execution_count": 4,
      "metadata": {
        "colab": {
          "base_uri": "https://localhost:8080/"
        },
        "id": "gUwXWb134NMT",
        "outputId": "7365bacb-db75-4751-ce9d-921a78261904"
      },
      "outputs": [
        {
          "output_type": "stream",
          "name": "stdout",
          "text": [
            "/root/.cache/kagglehub/datasets/harshvardhan21/sign-language-detection-using-images/versions/1/data\n",
            "mv: cannot stat '/root/.cache/kagglehub/datasets/harshvardhan21/sign-language-detection-using-images/versions/1/data': No such file or directory\n"
          ]
        }
      ],
      "source": [
        "# Kaggle Import\n",
        "import kagglehub\n",
        "\n",
        "#from google.colab import userdata\n",
        "#userdata.get('KAGGLE_USERNAME')\n",
        "#userdata.get('KAGGLE_KEY')\n",
        "\n",
        "# Download latest version\n",
        "sign_language_data_path = kagglehub.dataset_download(\"harshvardhan21/sign-language-detection-using-images\")\n",
        "sign_language_data_path += \"/data\"\n",
        "print(sign_language_data_path)\n",
        "\n",
        "!mv /root/.cache/kagglehub/datasets/harshvardhan21/sign-language-detection-using-images/versions/1/data /content\n"
      ]
    },
    {
      "cell_type": "code",
      "execution_count": 5,
      "metadata": {
        "colab": {
          "base_uri": "https://localhost:8080/"
        },
        "id": "vmrRHLMBPS-A",
        "outputId": "7c98213f-bca1-43bd-fa94-4611d052be9e"
      },
      "outputs": [
        {
          "output_type": "stream",
          "name": "stdout",
          "text": [
            "/content/207_final\n",
            "Already up to date.\n"
          ]
        }
      ],
      "source": [
        "%cd /content/207_final/\n",
        "!git pull"
      ]
    },
    {
      "cell_type": "code",
      "execution_count": 6,
      "metadata": {
        "colab": {
          "base_uri": "https://localhost:8080/"
        },
        "id": "jFLp8ATmQ5Dw",
        "outputId": "a8bfeaf9-9b11-47d8-b77e-2d4c258cd1db"
      },
      "outputs": [
        {
          "output_type": "stream",
          "name": "stdout",
          "text": [
            "env: MIDS_207_DATA_PATH=/content/data\n"
          ]
        }
      ],
      "source": [
        "os.makedirs(\"/content/data\", exist_ok=True)\n",
        "%env MIDS_207_DATA_PATH=/content/data\n"
      ]
    },
    {
      "cell_type": "code",
      "execution_count": 7,
      "metadata": {
        "colab": {
          "base_uri": "https://localhost:8080/"
        },
        "id": "JK2SKTgy2x-g",
        "outputId": "83f6b5ca-4e42-44d5-e884-f7de8be3b9f1"
      },
      "outputs": [
        {
          "output_type": "stream",
          "name": "stdout",
          "text": [
            "1  3  5  7  9  B  D  F\tH  J  L  N  P  R  T  V\tX  Z\n",
            "2  4  6  8  A  C  E  G\tI  K  M  O  Q  S  U  W\tY\n"
          ]
        }
      ],
      "source": [
        "!ls /content/data\n"
      ]
    },
    {
      "cell_type": "code",
      "execution_count": 8,
      "metadata": {
        "colab": {
          "base_uri": "https://localhost:8080/"
        },
        "id": "g5irgw2yR8Zo",
        "outputId": "02da9ab1-47c8-44c8-b2b6-ba754fc692a1"
      },
      "outputs": [
        {
          "output_type": "stream",
          "name": "stdout",
          "text": [
            "loading data from /content/data...\n",
            "splitting data into train, val, test...\n"
          ]
        }
      ],
      "source": [
        "from datasets import training\n"
      ]
    },
    {
      "cell_type": "code",
      "execution_count": 9,
      "metadata": {
        "id": "ANIyZpj8R9kl"
      },
      "outputs": [],
      "source": [
        "from util import imgs as imgutils\n"
      ]
    },
    {
      "cell_type": "code",
      "execution_count": 10,
      "metadata": {
        "colab": {
          "base_uri": "https://localhost:8080/"
        },
        "id": "C_lhPuMzSS3N",
        "outputId": "7ea86835-ca15-4329-a19b-d3eacafa015c"
      },
      "outputs": [
        {
          "output_type": "stream",
          "name": "stdout",
          "text": [
            "batch 0 has 100 images\n",
            "batch 1 has 100 images\n",
            "batch 2 has 100 images\n",
            "batch 3 has 100 images\n",
            "batch 4 has 100 images\n"
          ]
        }
      ],
      "source": [
        "for i in range(5):\n",
        "    x, y = training.data[i]\n",
        "    print(f'batch {i} has {x.shape[0]} images')"
      ]
    },
    {
      "cell_type": "code",
      "execution_count": 13,
      "metadata": {
        "colab": {
          "base_uri": "https://localhost:8080/"
        },
        "id": "mD3Jgw57KFj1",
        "outputId": "f48a1a17-80cb-4fef-b222-706da3075c0d"
      },
      "outputs": [
        {
          "output_type": "stream",
          "name": "stdout",
          "text": [
            "Label mapping: {'1': 0, '3': 1, '5': 2, '7': 3, '9': 4, 'B': 5, 'D': 6, 'F': 7, 'H': 8, 'J': 9, 'L': 10, 'N': 11, 'P': 12, 'R': 13, 'T': 14, 'V': 15, 'X': 16, 'Z': 17, '2': 18, '4': 19, '6': 20, '8': 21, 'A': 22, 'C': 23, 'E': 24, 'G': 25, 'I': 26, 'K': 27, 'M': 28, 'O': 29, 'Q': 30, 'S': 31, 'U': 32, 'W': 33, 'Y': 34}\n"
          ]
        }
      ],
      "source": [
        "# Create a mapping for the provided classes\n",
        "all_classes = ['1', '3', '5', '7', '9', 'B', 'D', 'F', 'H', 'J', 'L', 'N', 'P', 'R', 'T', 'V', 'X', 'Z',\n",
        "               '2', '4', '6', '8', 'A', 'C', 'E', 'G', 'I', 'K', 'M', 'O', 'Q', 'S', 'U', 'W', 'Y']\n",
        "label_mapping = {label: idx for idx, label in enumerate(all_classes)}\n",
        "print(\"Label mapping:\", label_mapping)\n"
      ]
    },
    {
      "cell_type": "markdown",
      "source": [
        "# Training Data"
      ],
      "metadata": {
        "id": "kobDqPvjIoUd"
      }
    },
    {
      "cell_type": "code",
      "execution_count": 14,
      "metadata": {
        "colab": {
          "base_uri": "https://localhost:8080/"
        },
        "outputId": "b7d9a0af-f7fe-42ec-e8d7-b52e8a828a21",
        "id": "R1x_HSsowIAr"
      },
      "outputs": [
        {
          "output_type": "stream",
          "name": "stdout",
          "text": [
            "x_train shape: (5000, 128, 128, 3)\n",
            "y_train shape: (5000,)\n",
            "Unique labels in y_train: [ 0  1  2  3  4  5  6  7  8  9 10 11 12 13 14 15 16 17 18 19 20 21 22 23\n",
            " 24 25 26 27 28 29 30 31 32 33 34]\n"
          ]
        }
      ],
      "source": [
        "all_basic_images, all_basic_labels = [], []\n",
        "\n",
        "for i in range(50):  # Adjust the range based on the number of batches\n",
        "    x, y = training.baseline_data[i]\n",
        "    all_basic_images.append(x)\n",
        "    all_basic_labels.append(y)\n",
        "\n",
        "# Combine all batches into a single dataset\n",
        "x_basic_train = tf.concat(all_basic_images, axis=0)\n",
        "y_basic_train = np.concatenate(all_basic_labels, axis=0)\n",
        "\n",
        "# Check the dataset shapes\n",
        "print(f\"x_train shape: {x_basic_train.shape}\")  # Example: (num_samples, height, width, channels)\n",
        "print(f\"y_train shape: {y_basic_train.shape}\")  # Example: (num_samples,)\n",
        "print(f\"Unique labels in y_train: {np.unique(y_basic_train)}\")  # Verify labels are mapped correctly\n"
      ]
    },
    {
      "cell_type": "code",
      "execution_count": 15,
      "metadata": {
        "colab": {
          "base_uri": "https://localhost:8080/"
        },
        "id": "ULFqvdWDM-dX",
        "outputId": "bcb480a3-7366-4e0f-8816-ab5a9a16efb6"
      },
      "outputs": [
        {
          "output_type": "stream",
          "name": "stdout",
          "text": [
            "x_train shape: (5000, 128, 128, 3)\n",
            "y_train shape: (5000,)\n",
            "Unique labels in y_train: [ 0  1  2  3  4  5  6  7  8  9 10 11 12 13 14 15 16 17 18 19 20 21 22 23\n",
            " 24 25 26 27 28 29 30 31 32 33 34]\n"
          ]
        }
      ],
      "source": [
        "all_augmented_images, all_augmented_labels = [], []\n",
        "\n",
        "for i in range(50):  # Adjust the range based on the number of batches\n",
        "    x, y = training.data[i]\n",
        "    all_augmented_images.append(x)\n",
        "    all_augmented_labels.append(y)\n",
        "\n",
        "# Combine all batches into a single dataset\n",
        "x_augmented_train = tf.concat(all_augmented_images, axis=0)\n",
        "y_augmented_train = np.concatenate(all_augmented_labels, axis=0)\n",
        "\n",
        "# Check the dataset shapes\n",
        "print(f\"x_train shape: {x_augmented_train.shape}\")  # Example: (num_samples, height, width, channels)\n",
        "print(f\"y_train shape: {y_augmented_train.shape}\")  # Example: (num_samples,)\n",
        "print(f\"Unique labels in y_train: {np.unique(y_augmented_train)}\")  # Verify labels are mapped correctly\n"
      ]
    },
    {
      "cell_type": "markdown",
      "source": [
        "# Model Builder (4 Conv Layer)"
      ],
      "metadata": {
        "id": "scE-LBr1vzrN"
      }
    },
    {
      "cell_type": "code",
      "execution_count": 16,
      "metadata": {
        "id": "59UPFtMkNALH"
      },
      "outputs": [],
      "source": [
        "from tensorflow.keras import layers, models, regularizers\n",
        "\n",
        "num_classes = len(all_classes)  # 36 classes\n",
        "\n",
        "import keras_tuner as kt\n",
        "from tensorflow.keras import layers, models\n",
        "import tensorflow as tf\n",
        "\n",
        "# Define a function for creating the model\n",
        "def build_model(hp):\n",
        "    model = models.Sequential([\n",
        "        # First Convolutional Block\n",
        "        layers.Conv2D(128, (5, 5), activation='relu', input_shape=x_basic_train.shape[1:],\n",
        "                      kernel_regularizer=regularizers.l2(0.01)),  # Add L2 regularization\n",
        "        layers.BatchNormalization(),  # Normalize activations for better training\n",
        "        layers.MaxPooling2D((2, 2)),\n",
        "        layers.Dropout(0.25),  # Dropout to prevent overfitting\n",
        "\n",
        "        # Second Convolutional Block\n",
        "        layers.Conv2D(64, (5, 5), activation='relu', kernel_regularizer=regularizers.l2(0.01)),\n",
        "        layers.BatchNormalization(),\n",
        "        layers.MaxPooling2D((2, 2)),\n",
        "        layers.Dropout(0.25),\n",
        "\n",
        "        # Third Convolutional Block\n",
        "        layers.Conv2D(32, (3, 3), activation='relu', kernel_regularizer=regularizers.l2(0.01)),\n",
        "        layers.BatchNormalization(),\n",
        "        layers.MaxPooling2D((2, 2)),\n",
        "        layers.Dropout(0.25),\n",
        "\n",
        "        # Fourth Convolutional Block\n",
        "        layers.Conv2D(16, (3, 3), activation='relu', kernel_regularizer=regularizers.l2(0.01)),\n",
        "        layers.BatchNormalization(),\n",
        "        layers.MaxPooling2D((2, 2)),\n",
        "        layers.Dropout(0.25),\n",
        "\n",
        "        # Fully Connected Layers\n",
        "        layers.Flatten(),\n",
        "        layers.Dense(16, activation='relu', kernel_regularizer=regularizers.l2(0.01)),\n",
        "        layers.BatchNormalization(),\n",
        "        layers.Dropout(0.25),\n",
        "\n",
        "        # Output Layer\n",
        "        layers.Dense(num_classes, activation='softmax')  # Adjusted to match 36 classes\n",
        "    ])\n",
        "\n",
        "    # Compile the model with tunable learning rate\n",
        "    model.compile(\n",
        "        optimizer=tf.keras.optimizers.Adam(\n",
        "            learning_rate=hp.Choice('learning_rate', [1e-3, 1e-4, 1e-5])\n",
        "        ),\n",
        "        loss='sparse_categorical_crossentropy',\n",
        "        metrics=['accuracy']\n",
        "    )\n",
        "\n",
        "    return model\n"
      ]
    },
    {
      "cell_type": "code",
      "execution_count": 17,
      "metadata": {
        "id": "E5WUOENsNCn8"
      },
      "outputs": [],
      "source": [
        "from tensorflow.keras.callbacks import EarlyStopping, ReduceLROnPlateau\n",
        "\n",
        "early_stopping = EarlyStopping(monitor='val_loss', patience=5, restore_best_weights=True)\n"
      ]
    },
    {
      "cell_type": "markdown",
      "source": [
        "# Baseline Model (Trained on Non-Augmented Data)"
      ],
      "metadata": {
        "id": "6d0wOdIPM_hY"
      }
    },
    {
      "cell_type": "code",
      "execution_count": 18,
      "metadata": {
        "id": "eSqapZChrEHh",
        "colab": {
          "base_uri": "https://localhost:8080/"
        },
        "outputId": "9ae5092b-f9fa-433a-f2cc-17ebc474f7c9"
      },
      "outputs": [
        {
          "output_type": "stream",
          "name": "stderr",
          "text": [
            "/usr/local/lib/python3.10/dist-packages/keras/src/layers/convolutional/base_conv.py:107: UserWarning: Do not pass an `input_shape`/`input_dim` argument to a layer. When using Sequential models, prefer using an `Input(shape)` object as the first layer in the model instead.\n",
            "  super().__init__(activity_regularizer=activity_regularizer, **kwargs)\n"
          ]
        }
      ],
      "source": [
        "# Initialize the tuner\n",
        "tuner_baseline = kt.Hyperband(\n",
        "    build_model,\n",
        "    objective='val_accuracy',\n",
        "    max_epochs=10,\n",
        "    factor=3\n",
        ")\n",
        "\n"
      ]
    },
    {
      "cell_type": "code",
      "execution_count": 19,
      "metadata": {
        "colab": {
          "base_uri": "https://localhost:8080/"
        },
        "id": "HZc4DJKhrGjQ",
        "outputId": "963b8e8d-7f47-4aa7-8ac2-652f01bb7d19"
      },
      "outputs": [
        {
          "output_type": "stream",
          "name": "stdout",
          "text": [
            "Trial 3 Complete [00h 00m 29s]\n",
            "val_accuracy: 0.06400000303983688\n",
            "\n",
            "Best val_accuracy So Far: 0.9399999976158142\n",
            "Total elapsed time: 00h 01m 58s\n"
          ]
        }
      ],
      "source": [
        "# Perform the search\n",
        "tuner_baseline.search(x_basic_train, y_basic_train, epochs=10, validation_split=0.2, batch_size=32)\n",
        "\n"
      ]
    },
    {
      "cell_type": "code",
      "execution_count": 20,
      "metadata": {
        "colab": {
          "base_uri": "https://localhost:8080/"
        },
        "id": "sIUN7Sd2rHue",
        "outputId": "b2ea2c31-c30c-4e77-e5b0-60b5f8e1f4f9"
      },
      "outputs": [
        {
          "output_type": "stream",
          "name": "stdout",
          "text": [
            "Best Hyperparameters:\n",
            "Learning Rate: 0.001\n"
          ]
        }
      ],
      "source": [
        "# Retrieve the best model\n",
        "best_hps_baseline = tuner_baseline.get_best_hyperparameters(num_trials=1)[0]\n",
        "\n",
        "# Display the optimal hyperparameters\n",
        "print(f\"Best Hyperparameters:\\n\"\n",
        "      f\"Learning Rate: {best_hps_baseline.get('learning_rate')}\")\n"
      ]
    },
    {
      "cell_type": "code",
      "execution_count": 21,
      "metadata": {
        "colab": {
          "base_uri": "https://localhost:8080/"
        },
        "id": "3fnutXfDrJXJ",
        "outputId": "9e5d1424-c963-49f4-fed9-8684be84b466"
      },
      "outputs": [
        {
          "output_type": "stream",
          "name": "stdout",
          "text": [
            "Epoch 1/50\n",
            "\u001b[1m125/125\u001b[0m \u001b[32m━━━━━━━━━━━━━━━━━━━━\u001b[0m\u001b[37m\u001b[0m \u001b[1m17s\u001b[0m 71ms/step - accuracy: 0.2152 - loss: 4.8997 - val_accuracy: 0.8160 - val_loss: 3.1327\n",
            "Epoch 2/50\n",
            "\u001b[1m125/125\u001b[0m \u001b[32m━━━━━━━━━━━━━━━━━━━━\u001b[0m\u001b[37m\u001b[0m \u001b[1m14s\u001b[0m 57ms/step - accuracy: 0.7290 - loss: 3.0126 - val_accuracy: 0.8520 - val_loss: 2.5298\n",
            "Epoch 3/50\n",
            "\u001b[1m125/125\u001b[0m \u001b[32m━━━━━━━━━━━━━━━━━━━━\u001b[0m\u001b[37m\u001b[0m \u001b[1m11s\u001b[0m 60ms/step - accuracy: 0.8959 - loss: 1.9147 - val_accuracy: 0.8520 - val_loss: 2.0909\n",
            "Epoch 4/50\n",
            "\u001b[1m125/125\u001b[0m \u001b[32m━━━━━━━━━━━━━━━━━━━━\u001b[0m\u001b[37m\u001b[0m \u001b[1m7s\u001b[0m 57ms/step - accuracy: 0.9643 - loss: 1.2413 - val_accuracy: 0.8320 - val_loss: 1.7961\n",
            "Epoch 5/50\n",
            "\u001b[1m125/125\u001b[0m \u001b[32m━━━━━━━━━━━━━━━━━━━━\u001b[0m\u001b[37m\u001b[0m \u001b[1m10s\u001b[0m 57ms/step - accuracy: 0.9754 - loss: 0.8537 - val_accuracy: 0.8990 - val_loss: 1.4051\n",
            "Epoch 6/50\n",
            "\u001b[1m125/125\u001b[0m \u001b[32m━━━━━━━━━━━━━━━━━━━━\u001b[0m\u001b[37m\u001b[0m \u001b[1m8s\u001b[0m 60ms/step - accuracy: 0.9834 - loss: 0.6101 - val_accuracy: 0.8650 - val_loss: 1.3734\n",
            "Epoch 7/50\n",
            "\u001b[1m125/125\u001b[0m \u001b[32m━━━━━━━━━━━━━━━━━━━━\u001b[0m\u001b[37m\u001b[0m \u001b[1m10s\u001b[0m 61ms/step - accuracy: 0.9859 - loss: 0.4488 - val_accuracy: 0.9860 - val_loss: 0.6948\n",
            "Epoch 8/50\n",
            "\u001b[1m125/125\u001b[0m \u001b[32m━━━━━━━━━━━━━━━━━━━━\u001b[0m\u001b[37m\u001b[0m \u001b[1m7s\u001b[0m 57ms/step - accuracy: 0.9892 - loss: 0.3491 - val_accuracy: 0.9990 - val_loss: 0.3892\n",
            "Epoch 9/50\n",
            "\u001b[1m125/125\u001b[0m \u001b[32m━━━━━━━━━━━━━━━━━━━━\u001b[0m\u001b[37m\u001b[0m \u001b[1m10s\u001b[0m 58ms/step - accuracy: 0.9884 - loss: 0.2955 - val_accuracy: 1.0000 - val_loss: 0.3437\n",
            "Epoch 10/50\n",
            "\u001b[1m125/125\u001b[0m \u001b[32m━━━━━━━━━━━━━━━━━━━━\u001b[0m\u001b[37m\u001b[0m \u001b[1m7s\u001b[0m 58ms/step - accuracy: 0.9954 - loss: 0.2354 - val_accuracy: 0.9860 - val_loss: 0.3916\n",
            "Epoch 11/50\n",
            "\u001b[1m125/125\u001b[0m \u001b[32m━━━━━━━━━━━━━━━━━━━━\u001b[0m\u001b[37m\u001b[0m \u001b[1m10s\u001b[0m 56ms/step - accuracy: 0.9913 - loss: 0.2278 - val_accuracy: 0.9930 - val_loss: 0.2566\n",
            "Epoch 12/50\n",
            "\u001b[1m125/125\u001b[0m \u001b[32m━━━━━━━━━━━━━━━━━━━━\u001b[0m\u001b[37m\u001b[0m \u001b[1m7s\u001b[0m 57ms/step - accuracy: 0.9915 - loss: 0.2041 - val_accuracy: 0.9990 - val_loss: 0.1614\n",
            "Epoch 13/50\n",
            "\u001b[1m125/125\u001b[0m \u001b[32m━━━━━━━━━━━━━━━━━━━━\u001b[0m\u001b[37m\u001b[0m \u001b[1m7s\u001b[0m 56ms/step - accuracy: 0.9926 - loss: 0.1806 - val_accuracy: 0.9710 - val_loss: 0.3007\n",
            "Epoch 14/50\n",
            "\u001b[1m125/125\u001b[0m \u001b[32m━━━━━━━━━━━━━━━━━━━━\u001b[0m\u001b[37m\u001b[0m \u001b[1m11s\u001b[0m 60ms/step - accuracy: 0.9877 - loss: 0.1885 - val_accuracy: 0.9990 - val_loss: 0.1209\n",
            "Epoch 15/50\n",
            "\u001b[1m125/125\u001b[0m \u001b[32m━━━━━━━━━━━━━━━━━━━━\u001b[0m\u001b[37m\u001b[0m \u001b[1m10s\u001b[0m 58ms/step - accuracy: 0.9884 - loss: 0.1962 - val_accuracy: 1.0000 - val_loss: 0.1667\n",
            "Epoch 16/50\n",
            "\u001b[1m125/125\u001b[0m \u001b[32m━━━━━━━━━━━━━━━━━━━━\u001b[0m\u001b[37m\u001b[0m \u001b[1m7s\u001b[0m 57ms/step - accuracy: 0.9937 - loss: 0.1555 - val_accuracy: 0.9340 - val_loss: 0.3693\n",
            "Epoch 17/50\n",
            "\u001b[1m125/125\u001b[0m \u001b[32m━━━━━━━━━━━━━━━━━━━━\u001b[0m\u001b[37m\u001b[0m \u001b[1m8s\u001b[0m 60ms/step - accuracy: 0.9924 - loss: 0.1505 - val_accuracy: 0.2100 - val_loss: 3.6343\n",
            "Epoch 18/50\n",
            "\u001b[1m125/125\u001b[0m \u001b[32m━━━━━━━━━━━━━━━━━━━━\u001b[0m\u001b[37m\u001b[0m \u001b[1m7s\u001b[0m 59ms/step - accuracy: 0.9792 - loss: 0.2065 - val_accuracy: 0.9990 - val_loss: 0.1231\n",
            "Epoch 19/50\n",
            "\u001b[1m125/125\u001b[0m \u001b[32m━━━━━━━━━━━━━━━━━━━━\u001b[0m\u001b[37m\u001b[0m \u001b[1m10s\u001b[0m 57ms/step - accuracy: 0.9898 - loss: 0.1585 - val_accuracy: 1.0000 - val_loss: 0.1120\n",
            "Epoch 20/50\n",
            "\u001b[1m125/125\u001b[0m \u001b[32m━━━━━━━━━━━━━━━━━━━━\u001b[0m\u001b[37m\u001b[0m \u001b[1m7s\u001b[0m 60ms/step - accuracy: 0.9904 - loss: 0.1571 - val_accuracy: 0.9680 - val_loss: 0.2360\n",
            "Epoch 21/50\n",
            "\u001b[1m125/125\u001b[0m \u001b[32m━━━━━━━━━━━━━━━━━━━━\u001b[0m\u001b[37m\u001b[0m \u001b[1m10s\u001b[0m 56ms/step - accuracy: 0.9885 - loss: 0.1618 - val_accuracy: 0.9980 - val_loss: 0.1480\n",
            "Epoch 22/50\n",
            "\u001b[1m125/125\u001b[0m \u001b[32m━━━━━━━━━━━━━━━━━━━━\u001b[0m\u001b[37m\u001b[0m \u001b[1m7s\u001b[0m 57ms/step - accuracy: 0.9894 - loss: 0.1561 - val_accuracy: 1.0000 - val_loss: 0.1192\n",
            "Epoch 23/50\n",
            "\u001b[1m125/125\u001b[0m \u001b[32m━━━━━━━━━━━━━━━━━━━━\u001b[0m\u001b[37m\u001b[0m \u001b[1m7s\u001b[0m 59ms/step - accuracy: 0.9902 - loss: 0.1461 - val_accuracy: 0.9930 - val_loss: 0.1893\n",
            "Epoch 24/50\n",
            "\u001b[1m125/125\u001b[0m \u001b[32m━━━━━━━━━━━━━━━━━━━━\u001b[0m\u001b[37m\u001b[0m \u001b[1m10s\u001b[0m 57ms/step - accuracy: 0.9930 - loss: 0.1419 - val_accuracy: 0.9630 - val_loss: 0.2195\n"
          ]
        }
      ],
      "source": [
        "\n",
        "# Train the best model with the best hyperparameters\n",
        "best_model_baseline = tuner_baseline.hypermodel.build(best_hps_baseline)\n",
        "history_best_baseline = best_model_baseline.fit(\n",
        "    x_basic_train,\n",
        "    y_basic_train,\n",
        "    epochs=50,\n",
        "    validation_split=0.2,\n",
        "    batch_size=32,\n",
        "    callbacks=[early_stopping])"
      ]
    },
    {
      "cell_type": "markdown",
      "source": [
        "# Actual Model (Trained on Augmented Data)"
      ],
      "metadata": {
        "id": "HaQIjmbnv6oZ"
      }
    },
    {
      "cell_type": "code",
      "execution_count": 22,
      "metadata": {
        "colab": {
          "base_uri": "https://localhost:8080/"
        },
        "outputId": "29bedbc9-17b8-4b25-b9f1-d38be8c2ee66",
        "id": "Rb_znKsPxxQy"
      },
      "outputs": [
        {
          "output_type": "stream",
          "name": "stdout",
          "text": [
            "Reloading Tuner from ./untitled_project/tuner0.json\n"
          ]
        }
      ],
      "source": [
        "# Initialize the tuner\n",
        "tuner_model = kt.Hyperband(\n",
        "    build_model,\n",
        "    objective='val_accuracy',\n",
        "    max_epochs=10,\n",
        "    factor=3\n",
        ")"
      ]
    },
    {
      "cell_type": "code",
      "source": [
        "# Perform the search\n",
        "tuner_model.search(x_augmented_train, y_augmented_train, epochs=20, validation_split=0.2, batch_size=32)\n",
        "\n"
      ],
      "metadata": {
        "id": "KvmBqFRQPFgT"
      },
      "execution_count": 23,
      "outputs": []
    },
    {
      "cell_type": "code",
      "source": [
        "# Retrieve the best model\n",
        "best_hps_model = tuner_model.get_best_hyperparameters(num_trials=1)[0]\n",
        "\n",
        "# Display the optimal hyperparameters\n",
        "print(f\"Best Hyperparameters:\\n\"\n",
        "      f\"Learning Rate: {best_hps_model.get('learning_rate')}\")\n"
      ],
      "metadata": {
        "colab": {
          "base_uri": "https://localhost:8080/"
        },
        "id": "9lczjU8sPH3f",
        "outputId": "f8f727d7-b262-4a25-f04b-0535a759761c"
      },
      "execution_count": 24,
      "outputs": [
        {
          "output_type": "stream",
          "name": "stdout",
          "text": [
            "Best Hyperparameters:\n",
            "Learning Rate: 0.001\n"
          ]
        }
      ]
    },
    {
      "cell_type": "code",
      "source": [
        "# Train the best model with the best hyperparameters\n",
        "early_stopping2 = EarlyStopping(monitor='val_loss', patience=5, restore_best_weights=True)\n",
        "best_model = tuner_model.hypermodel.build(best_hps_baseline)\n",
        "history_best = best_model.fit(\n",
        "    x_augmented_train,\n",
        "    y_augmented_train,\n",
        "    epochs=50,\n",
        "    validation_split=0.2,\n",
        "    batch_size=32,\n",
        "    callbacks=[early_stopping2])"
      ],
      "metadata": {
        "colab": {
          "base_uri": "https://localhost:8080/"
        },
        "id": "82-0Ws-rPJ_l",
        "outputId": "d2cdc88a-fe82-4416-f76b-397d8f5003d3"
      },
      "execution_count": 25,
      "outputs": [
        {
          "output_type": "stream",
          "name": "stdout",
          "text": [
            "Epoch 1/50\n",
            "\u001b[1m125/125\u001b[0m \u001b[32m━━━━━━━━━━━━━━━━━━━━\u001b[0m\u001b[37m\u001b[0m \u001b[1m17s\u001b[0m 72ms/step - accuracy: 0.0607 - loss: 5.5117 - val_accuracy: 0.2900 - val_loss: 4.5699\n",
            "Epoch 2/50\n",
            "\u001b[1m125/125\u001b[0m \u001b[32m━━━━━━━━━━━━━━━━━━━━\u001b[0m\u001b[37m\u001b[0m \u001b[1m14s\u001b[0m 61ms/step - accuracy: 0.2470 - loss: 4.3063 - val_accuracy: 0.5730 - val_loss: 3.6225\n",
            "Epoch 3/50\n",
            "\u001b[1m125/125\u001b[0m \u001b[32m━━━━━━━━━━━━━━━━━━━━\u001b[0m\u001b[37m\u001b[0m \u001b[1m7s\u001b[0m 57ms/step - accuracy: 0.4680 - loss: 3.2938 - val_accuracy: 0.6410 - val_loss: 2.9450\n",
            "Epoch 4/50\n",
            "\u001b[1m125/125\u001b[0m \u001b[32m━━━━━━━━━━━━━━━━━━━━\u001b[0m\u001b[37m\u001b[0m \u001b[1m7s\u001b[0m 58ms/step - accuracy: 0.6261 - loss: 2.5408 - val_accuracy: 0.7410 - val_loss: 2.2212\n",
            "Epoch 5/50\n",
            "\u001b[1m125/125\u001b[0m \u001b[32m━━━━━━━━━━━━━━━━━━━━\u001b[0m\u001b[37m\u001b[0m \u001b[1m7s\u001b[0m 59ms/step - accuracy: 0.7209 - loss: 1.9768 - val_accuracy: 0.7270 - val_loss: 2.1023\n",
            "Epoch 6/50\n",
            "\u001b[1m125/125\u001b[0m \u001b[32m━━━━━━━━━━━━━━━━━━━━\u001b[0m\u001b[37m\u001b[0m \u001b[1m7s\u001b[0m 57ms/step - accuracy: 0.7819 - loss: 1.6067 - val_accuracy: 0.8230 - val_loss: 1.6523\n",
            "Epoch 7/50\n",
            "\u001b[1m125/125\u001b[0m \u001b[32m━━━━━━━━━━━━━━━━━━━━\u001b[0m\u001b[37m\u001b[0m \u001b[1m7s\u001b[0m 56ms/step - accuracy: 0.8087 - loss: 1.3656 - val_accuracy: 0.8240 - val_loss: 1.4603\n",
            "Epoch 8/50\n",
            "\u001b[1m125/125\u001b[0m \u001b[32m━━━━━━━━━━━━━━━━━━━━\u001b[0m\u001b[37m\u001b[0m \u001b[1m7s\u001b[0m 56ms/step - accuracy: 0.8332 - loss: 1.1699 - val_accuracy: 0.8970 - val_loss: 0.9864\n",
            "Epoch 9/50\n",
            "\u001b[1m125/125\u001b[0m \u001b[32m━━━━━━━━━━━━━━━━━━━━\u001b[0m\u001b[37m\u001b[0m \u001b[1m7s\u001b[0m 58ms/step - accuracy: 0.8387 - loss: 1.0648 - val_accuracy: 0.8300 - val_loss: 1.1711\n",
            "Epoch 10/50\n",
            "\u001b[1m125/125\u001b[0m \u001b[32m━━━━━━━━━━━━━━━━━━━━\u001b[0m\u001b[37m\u001b[0m \u001b[1m10s\u001b[0m 57ms/step - accuracy: 0.8716 - loss: 0.9646 - val_accuracy: 0.9210 - val_loss: 0.8284\n",
            "Epoch 11/50\n",
            "\u001b[1m125/125\u001b[0m \u001b[32m━━━━━━━━━━━━━━━━━━━━\u001b[0m\u001b[37m\u001b[0m \u001b[1m10s\u001b[0m 57ms/step - accuracy: 0.8798 - loss: 0.8727 - val_accuracy: 0.9270 - val_loss: 0.7107\n",
            "Epoch 12/50\n",
            "\u001b[1m125/125\u001b[0m \u001b[32m━━━━━━━━━━━━━━━━━━━━\u001b[0m\u001b[37m\u001b[0m \u001b[1m7s\u001b[0m 56ms/step - accuracy: 0.8659 - loss: 0.8291 - val_accuracy: 0.9180 - val_loss: 0.7972\n",
            "Epoch 13/50\n",
            "\u001b[1m125/125\u001b[0m \u001b[32m━━━━━━━━━━━━━━━━━━━━\u001b[0m\u001b[37m\u001b[0m \u001b[1m10s\u001b[0m 56ms/step - accuracy: 0.8851 - loss: 0.7855 - val_accuracy: 0.9310 - val_loss: 0.6735\n",
            "Epoch 14/50\n",
            "\u001b[1m125/125\u001b[0m \u001b[32m━━━━━━━━━━━━━━━━━━━━\u001b[0m\u001b[37m\u001b[0m \u001b[1m10s\u001b[0m 56ms/step - accuracy: 0.8839 - loss: 0.7645 - val_accuracy: 0.9180 - val_loss: 0.6833\n",
            "Epoch 15/50\n",
            "\u001b[1m125/125\u001b[0m \u001b[32m━━━━━━━━━━━━━━━━━━━━\u001b[0m\u001b[37m\u001b[0m \u001b[1m10s\u001b[0m 56ms/step - accuracy: 0.8948 - loss: 0.7190 - val_accuracy: 0.9580 - val_loss: 0.5743\n",
            "Epoch 16/50\n",
            "\u001b[1m125/125\u001b[0m \u001b[32m━━━━━━━━━━━━━━━━━━━━\u001b[0m\u001b[37m\u001b[0m \u001b[1m10s\u001b[0m 57ms/step - accuracy: 0.8945 - loss: 0.7140 - val_accuracy: 0.9350 - val_loss: 0.6453\n",
            "Epoch 17/50\n",
            "\u001b[1m125/125\u001b[0m \u001b[32m━━━━━━━━━━━━━━━━━━━━\u001b[0m\u001b[37m\u001b[0m \u001b[1m11s\u001b[0m 60ms/step - accuracy: 0.8931 - loss: 0.6812 - val_accuracy: 0.9490 - val_loss: 0.5681\n",
            "Epoch 18/50\n",
            "\u001b[1m125/125\u001b[0m \u001b[32m━━━━━━━━━━━━━━━━━━━━\u001b[0m\u001b[37m\u001b[0m \u001b[1m7s\u001b[0m 56ms/step - accuracy: 0.9121 - loss: 0.6363 - val_accuracy: 0.9180 - val_loss: 0.6423\n",
            "Epoch 19/50\n",
            "\u001b[1m125/125\u001b[0m \u001b[32m━━━━━━━━━━━━━━━━━━━━\u001b[0m\u001b[37m\u001b[0m \u001b[1m7s\u001b[0m 57ms/step - accuracy: 0.9056 - loss: 0.6596 - val_accuracy: 0.9230 - val_loss: 0.6138\n",
            "Epoch 20/50\n",
            "\u001b[1m125/125\u001b[0m \u001b[32m━━━━━━━━━━━━━━━━━━━━\u001b[0m\u001b[37m\u001b[0m \u001b[1m7s\u001b[0m 58ms/step - accuracy: 0.9018 - loss: 0.6443 - val_accuracy: 0.8270 - val_loss: 0.9021\n",
            "Epoch 21/50\n",
            "\u001b[1m125/125\u001b[0m \u001b[32m━━━━━━━━━━━━━━━━━━━━\u001b[0m\u001b[37m\u001b[0m \u001b[1m10s\u001b[0m 57ms/step - accuracy: 0.9132 - loss: 0.6395 - val_accuracy: 0.9190 - val_loss: 0.6682\n",
            "Epoch 22/50\n",
            "\u001b[1m125/125\u001b[0m \u001b[32m━━━━━━━━━━━━━━━━━━━━\u001b[0m\u001b[37m\u001b[0m \u001b[1m11s\u001b[0m 60ms/step - accuracy: 0.9090 - loss: 0.6637 - val_accuracy: 0.9580 - val_loss: 0.4917\n",
            "Epoch 23/50\n",
            "\u001b[1m125/125\u001b[0m \u001b[32m━━━━━━━━━━━━━━━━━━━━\u001b[0m\u001b[37m\u001b[0m \u001b[1m10s\u001b[0m 59ms/step - accuracy: 0.9132 - loss: 0.6260 - val_accuracy: 0.9700 - val_loss: 0.4685\n",
            "Epoch 24/50\n",
            "\u001b[1m125/125\u001b[0m \u001b[32m━━━━━━━━━━━━━━━━━━━━\u001b[0m\u001b[37m\u001b[0m \u001b[1m10s\u001b[0m 59ms/step - accuracy: 0.9224 - loss: 0.5934 - val_accuracy: 0.9610 - val_loss: 0.4492\n",
            "Epoch 25/50\n",
            "\u001b[1m125/125\u001b[0m \u001b[32m━━━━━━━━━━━━━━━━━━━━\u001b[0m\u001b[37m\u001b[0m \u001b[1m10s\u001b[0m 58ms/step - accuracy: 0.9032 - loss: 0.6227 - val_accuracy: 0.8910 - val_loss: 0.6726\n",
            "Epoch 26/50\n",
            "\u001b[1m125/125\u001b[0m \u001b[32m━━━━━━━━━━━━━━━━━━━━\u001b[0m\u001b[37m\u001b[0m \u001b[1m7s\u001b[0m 57ms/step - accuracy: 0.9195 - loss: 0.6084 - val_accuracy: 0.9000 - val_loss: 0.7285\n",
            "Epoch 27/50\n",
            "\u001b[1m125/125\u001b[0m \u001b[32m━━━━━━━━━━━━━━━━━━━━\u001b[0m\u001b[37m\u001b[0m \u001b[1m7s\u001b[0m 56ms/step - accuracy: 0.9056 - loss: 0.6387 - val_accuracy: 0.8450 - val_loss: 0.9566\n",
            "Epoch 28/50\n",
            "\u001b[1m125/125\u001b[0m \u001b[32m━━━━━━━━━━━━━━━━━━━━\u001b[0m\u001b[37m\u001b[0m \u001b[1m11s\u001b[0m 59ms/step - accuracy: 0.9247 - loss: 0.5842 - val_accuracy: 0.9730 - val_loss: 0.4437\n",
            "Epoch 29/50\n",
            "\u001b[1m125/125\u001b[0m \u001b[32m━━━━━━━━━━━━━━━━━━━━\u001b[0m\u001b[37m\u001b[0m \u001b[1m10s\u001b[0m 58ms/step - accuracy: 0.9198 - loss: 0.5980 - val_accuracy: 0.9000 - val_loss: 0.6803\n",
            "Epoch 30/50\n",
            "\u001b[1m125/125\u001b[0m \u001b[32m━━━━━━━━━━━━━━━━━━━━\u001b[0m\u001b[37m\u001b[0m \u001b[1m10s\u001b[0m 59ms/step - accuracy: 0.9150 - loss: 0.5964 - val_accuracy: 0.8550 - val_loss: 0.8432\n",
            "Epoch 31/50\n",
            "\u001b[1m125/125\u001b[0m \u001b[32m━━━━━━━━━━━━━━━━━━━━\u001b[0m\u001b[37m\u001b[0m \u001b[1m10s\u001b[0m 56ms/step - accuracy: 0.9149 - loss: 0.5909 - val_accuracy: 0.9230 - val_loss: 0.6133\n",
            "Epoch 32/50\n",
            "\u001b[1m125/125\u001b[0m \u001b[32m━━━━━━━━━━━━━━━━━━━━\u001b[0m\u001b[37m\u001b[0m \u001b[1m7s\u001b[0m 57ms/step - accuracy: 0.9228 - loss: 0.5784 - val_accuracy: 0.9600 - val_loss: 0.4552\n",
            "Epoch 33/50\n",
            "\u001b[1m125/125\u001b[0m \u001b[32m━━━━━━━━━━━━━━━━━━━━\u001b[0m\u001b[37m\u001b[0m \u001b[1m7s\u001b[0m 56ms/step - accuracy: 0.9356 - loss: 0.5358 - val_accuracy: 0.9920 - val_loss: 0.3842\n",
            "Epoch 34/50\n",
            "\u001b[1m125/125\u001b[0m \u001b[32m━━━━━━━━━━━━━━━━━━━━\u001b[0m\u001b[37m\u001b[0m \u001b[1m7s\u001b[0m 57ms/step - accuracy: 0.9348 - loss: 0.5428 - val_accuracy: 0.9410 - val_loss: 0.5163\n",
            "Epoch 35/50\n",
            "\u001b[1m125/125\u001b[0m \u001b[32m━━━━━━━━━━━━━━━━━━━━\u001b[0m\u001b[37m\u001b[0m \u001b[1m7s\u001b[0m 57ms/step - accuracy: 0.9287 - loss: 0.5402 - val_accuracy: 0.9630 - val_loss: 0.4703\n",
            "Epoch 36/50\n",
            "\u001b[1m125/125\u001b[0m \u001b[32m━━━━━━━━━━━━━━━━━━━━\u001b[0m\u001b[37m\u001b[0m \u001b[1m11s\u001b[0m 59ms/step - accuracy: 0.9220 - loss: 0.5403 - val_accuracy: 0.9780 - val_loss: 0.3933\n",
            "Epoch 37/50\n",
            "\u001b[1m125/125\u001b[0m \u001b[32m━━━━━━━━━━━━━━━━━━━━\u001b[0m\u001b[37m\u001b[0m \u001b[1m7s\u001b[0m 57ms/step - accuracy: 0.9337 - loss: 0.5113 - val_accuracy: 0.9620 - val_loss: 0.4312\n",
            "Epoch 38/50\n",
            "\u001b[1m125/125\u001b[0m \u001b[32m━━━━━━━━━━━━━━━━━━━━\u001b[0m\u001b[37m\u001b[0m \u001b[1m11s\u001b[0m 59ms/step - accuracy: 0.9262 - loss: 0.5490 - val_accuracy: 0.9410 - val_loss: 0.5096\n"
          ]
        }
      ]
    },
    {
      "cell_type": "markdown",
      "source": [
        "# Test\n",
        "\n"
      ],
      "metadata": {
        "id": "GvVdKQpkcaep"
      }
    },
    {
      "cell_type": "code",
      "source": [
        "#from datasets.tests import affine\n",
        "#from datasets.tests import center_rotation\n",
        "#from datasets.tests import noise\n"
      ],
      "metadata": {
        "id": "t_ZZsvQOc5i3"
      },
      "execution_count": 26,
      "outputs": []
    },
    {
      "cell_type": "code",
      "source": [
        "# affine_results = []\n",
        "\n",
        "# for dataset in affine.datasets:\n",
        "#   all_affine_images, all_affine_labels = [], []\n",
        "#   for i in range(50):\n",
        "#     x, y = dataset[i]\n",
        "#     all_affine_images.append(x)\n",
        "#     all_affine_labels.append(y)\n",
        "\n",
        "#   # Combine all batches into a single dataset\n",
        "#   x_affine_test = tf.concat(all_affine_images, axis=0)\n",
        "#   y_affine_test = np.concatenate(all_affine_labels, axis=0)\n",
        "\n",
        "#   affine_results.append(best_model.evaluate(x_affine_test, y_affine_test))\n",
        "\n",
        "# print(affine_results)"
      ],
      "metadata": {
        "id": "ZSjpAE4lex5P"
      },
      "execution_count": 27,
      "outputs": []
    },
    {
      "cell_type": "markdown",
      "source": [
        "# Save Model"
      ],
      "metadata": {
        "id": "3ZEz7eCvdRrR"
      }
    },
    {
      "cell_type": "code",
      "source": [
        "best_model.save('cnn_D.keras')\n",
        "best_model_baseline.save('cnn_D_baseline.keras')"
      ],
      "metadata": {
        "id": "HyyRZcMxdTfI"
      },
      "execution_count": 28,
      "outputs": []
    }
  ],
  "metadata": {
    "accelerator": "GPU",
    "colab": {
      "gpuType": "T4",
      "provenance": [],
      "collapsed_sections": [
        "kobDqPvjIoUd",
        "scE-LBr1vzrN",
        "6d0wOdIPM_hY",
        "GvVdKQpkcaep"
      ]
    },
    "kernelspec": {
      "display_name": "Python 3",
      "name": "python3"
    },
    "language_info": {
      "name": "python"
    }
  },
  "nbformat": 4,
  "nbformat_minor": 0
}