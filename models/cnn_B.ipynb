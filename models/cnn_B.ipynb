{
  "nbformat": 4,
  "nbformat_minor": 0,
  "metadata": {
    "colab": {
      "provenance": [],
      "machine_shape": "hm",
      "gpuType": "A100"
    },
    "kernelspec": {
      "name": "python3",
      "display_name": "Python 3"
    },
    "language_info": {
      "name": "python"
    },
    "accelerator": "GPU"
  },
  "cells": [
    {
      "cell_type": "code",
      "source": [
        "%%capture\n",
        "!pip install keras_tuner\n",
        "!pip install tensorflow"
      ],
      "metadata": {
        "id": "uKDMbMepcUFM"
      },
      "execution_count": 1,
      "outputs": []
    },
    {
      "cell_type": "code",
      "source": [
        "from tensorflow.keras.callbacks import EarlyStopping, ReduceLROnPlateau\n",
        "from tensorflow.keras.models import (\n",
        "    load_model,\n",
        "    clone_model\n",
        ")\n",
        "import tensorflow as tf"
      ],
      "metadata": {
        "id": "iEEZL18Xbzhq"
      },
      "execution_count": 2,
      "outputs": []
    },
    {
      "cell_type": "code",
      "execution_count": 3,
      "metadata": {
        "colab": {
          "base_uri": "https://localhost:8080/"
        },
        "id": "hMnaKeiHZNYT",
        "outputId": "5eec5edd-f6e3-4ad0-a3f8-5759ea74a041"
      },
      "outputs": [
        {
          "output_type": "stream",
          "name": "stdout",
          "text": [
            "Cloning into '207_final'...\n",
            "remote: Enumerating objects: 287, done.\u001b[K\n",
            "remote: Counting objects: 100% (108/108), done.\u001b[K\n",
            "remote: Compressing objects: 100% (49/49), done.\u001b[K\n",
            "remote: Total 287 (delta 60), reused 102 (delta 56), pack-reused 179 (from 1)\u001b[K\n",
            "Receiving objects: 100% (287/287), 107.38 MiB | 13.65 MiB/s, done.\n",
            "Resolving deltas: 100% (134/134), done.\n"
          ]
        }
      ],
      "source": [
        "import numpy as np\n",
        "import os\n",
        "import sys\n",
        "from google.colab import userdata\n",
        "s = userdata.get('ghkey')\n",
        "with open('./github_token', 'wb') as f:\n",
        "  f.write(bytes(s, 'utf'))\n",
        "!rm -rf ./207_final\n",
        "!git clone https://oauth2:$(cat ./github_token)@github.com/numbersrcool/207_final.git"
      ]
    },
    {
      "cell_type": "code",
      "source": [
        "%%capture\n",
        "b = userdata.get('bucket')\n",
        "with open('./.bucket', 'wb') as f:\n",
        "  f.write(bytes(b, 'utf'))\n",
        "\n",
        "!pip install google-cloud-storage\n",
        "\n",
        "from google.colab import auth\n",
        "auth.authenticate_user()\n",
        "!rm -rf data/\n",
        "!gsutil cp gs://$(cat /content/.bucket)/207_final.zip  /content/\n",
        "!unzip 207_final.zip"
      ],
      "metadata": {
        "id": "Ue3ISG4PZTH-"
      },
      "execution_count": 4,
      "outputs": []
    },
    {
      "cell_type": "code",
      "source": [
        "\n",
        "%cd 207_final"
      ],
      "metadata": {
        "colab": {
          "base_uri": "https://localhost:8080/"
        },
        "id": "E862ElTNh71A",
        "outputId": "43a68175-b3bf-4e3b-b0d2-a044beeacb02"
      },
      "execution_count": 5,
      "outputs": [
        {
          "output_type": "stream",
          "name": "stdout",
          "text": [
            "/content/207_final\n"
          ]
        }
      ]
    },
    {
      "cell_type": "code",
      "source": [
        "%env MIDS_207_DATA_PATH=../data\n",
        "\n",
        "from datasets import (\n",
        "    training,\n",
        "    validation,\n",
        "    TRAIN_BATCH_SIZE,\n",
        "    TRAIN_NUM_BATCHES,\n",
        ")\n"
      ],
      "metadata": {
        "colab": {
          "base_uri": "https://localhost:8080/"
        },
        "id": "mm40S8NShrSs",
        "outputId": "55feec95-42e0-476d-a5c1-d0927242e9e7"
      },
      "execution_count": 6,
      "outputs": [
        {
          "output_type": "stream",
          "name": "stdout",
          "text": [
            "env: MIDS_207_DATA_PATH=../data\n",
            "loading data from ../data...\n",
            "splitting data into train, val, test...\n"
          ]
        }
      ]
    },
    {
      "cell_type": "code",
      "source": [
        "from models.cnn_B import tuner"
      ],
      "metadata": {
        "colab": {
          "base_uri": "https://localhost:8080/"
        },
        "id": "QxqNGtjxsSh1",
        "outputId": "49afd3ee-ae9b-4cb3-8b98-17f1b10b4181"
      },
      "execution_count": null,
      "outputs": [
        {
          "output_type": "stream",
          "name": "stderr",
          "text": [
            "WARNING:absl:Compiled the loaded model, but the compiled metrics have yet to be built. `model.compile_metrics` will be empty until you train or evaluate the model.\n"
          ]
        }
      ]
    },
    {
      "cell_type": "code",
      "source": [
        "tuner.search(training.data, epochs=10, validation_data=validation.data)"
      ],
      "metadata": {
        "colab": {
          "base_uri": "https://localhost:8080/"
        },
        "id": "_aAVoCKAnORA",
        "outputId": "05424d03-dfb8-49fc-ec58-a934d8c477a0"
      },
      "execution_count": null,
      "outputs": [
        {
          "output_type": "stream",
          "name": "stdout",
          "text": [
            "Trial 10 Complete [00h 01m 07s]\n",
            "val_accuracy: 0.996874988079071\n",
            "\n",
            "Best val_accuracy So Far: 0.996874988079071\n",
            "Total elapsed time: 00h 07m 07s\n"
          ]
        }
      ]
    },
    {
      "cell_type": "code",
      "source": [
        "model = tuner.get_best_models(num_models=1)[0]"
      ],
      "metadata": {
        "colab": {
          "base_uri": "https://localhost:8080/"
        },
        "id": "_B4djsIv-YZI",
        "outputId": "1e33c7d7-1cfd-40dd-c94c-ba77a5303d4c"
      },
      "execution_count": null,
      "outputs": [
        {
          "output_type": "stream",
          "name": "stderr",
          "text": [
            "/usr/local/lib/python3.10/dist-packages/keras/src/saving/saving_lib.py:713: UserWarning: Skipping variable loading for optimizer 'adam', because it has 2 variables whereas the saved optimizer has 34 variables. \n",
            "  saveable.load_own_variables(weights_store.get(inner_path))\n"
          ]
        }
      ]
    },
    {
      "cell_type": "code",
      "source": [
        "tf.keras.backend.clear_session()\n",
        "\n",
        "early_stopping = EarlyStopping(monitor='val_accuracy', patience=5, restore_best_weights=True)\n",
        "reduce_lr = ReduceLROnPlateau(monitor='val_loss', factor=0.5, patience=2, min_lr=1e-6)\n",
        "\n",
        "history = model.fit(training.data,\n",
        "    epochs=TRAIN_NUM_BATCHES,\n",
        "    batch_size=TRAIN_BATCH_SIZE,\n",
        "    validation_data=validation.data,\n",
        "    callbacks=[early_stopping, reduce_lr]\n",
        ")"
      ],
      "metadata": {
        "colab": {
          "base_uri": "https://localhost:8080/"
        },
        "id": "S0ctP0QIa_Lh",
        "outputId": "8a4670b2-cb08-4df7-9385-8867da4ea412"
      },
      "execution_count": null,
      "outputs": [
        {
          "output_type": "stream",
          "name": "stdout",
          "text": [
            "Epoch 1/100\n",
            "\u001b[1m100/100\u001b[0m \u001b[32m━━━━━━━━━━━━━━━━━━━━\u001b[0m\u001b[37m\u001b[0m \u001b[1m13s\u001b[0m 102ms/step - accuracy: 0.7874 - loss: 1.2961 - val_accuracy: 0.9953 - val_loss: 0.0239 - learning_rate: 0.0010\n",
            "Epoch 2/100\n",
            "\u001b[1m100/100\u001b[0m \u001b[32m━━━━━━━━━━━━━━━━━━━━\u001b[0m\u001b[37m\u001b[0m \u001b[1m9s\u001b[0m 88ms/step - accuracy: 0.9821 - loss: 0.0648 - val_accuracy: 0.9953 - val_loss: 0.0196 - learning_rate: 0.0010\n",
            "Epoch 3/100\n",
            "\u001b[1m100/100\u001b[0m \u001b[32m━━━━━━━━━━━━━━━━━━━━\u001b[0m\u001b[37m\u001b[0m \u001b[1m9s\u001b[0m 89ms/step - accuracy: 0.9915 - loss: 0.0372 - val_accuracy: 0.9969 - val_loss: 0.0173 - learning_rate: 0.0010\n",
            "Epoch 4/100\n",
            "\u001b[1m100/100\u001b[0m \u001b[32m━━━━━━━━━━━━━━━━━━━━\u001b[0m\u001b[37m\u001b[0m \u001b[1m9s\u001b[0m 89ms/step - accuracy: 0.9945 - loss: 0.0223 - val_accuracy: 0.9859 - val_loss: 0.0557 - learning_rate: 0.0010\n",
            "Epoch 5/100\n",
            "\u001b[1m100/100\u001b[0m \u001b[32m━━━━━━━━━━━━━━━━━━━━\u001b[0m\u001b[37m\u001b[0m \u001b[1m9s\u001b[0m 90ms/step - accuracy: 0.9949 - loss: 0.0203 - val_accuracy: 0.9984 - val_loss: 0.0058 - learning_rate: 0.0010\n",
            "Epoch 6/100\n",
            "\u001b[1m100/100\u001b[0m \u001b[32m━━━━━━━━━━━━━━━━━━━━\u001b[0m\u001b[37m\u001b[0m \u001b[1m9s\u001b[0m 89ms/step - accuracy: 0.9974 - loss: 0.0164 - val_accuracy: 0.9984 - val_loss: 0.0045 - learning_rate: 0.0010\n",
            "Epoch 7/100\n",
            "\u001b[1m100/100\u001b[0m \u001b[32m━━━━━━━━━━━━━━━━━━━━\u001b[0m\u001b[37m\u001b[0m \u001b[1m9s\u001b[0m 88ms/step - accuracy: 0.9977 - loss: 0.0161 - val_accuracy: 0.9984 - val_loss: 0.0017 - learning_rate: 0.0010\n",
            "Epoch 8/100\n",
            "\u001b[1m100/100\u001b[0m \u001b[32m━━━━━━━━━━━━━━━━━━━━\u001b[0m\u001b[37m\u001b[0m \u001b[1m10s\u001b[0m 90ms/step - accuracy: 0.9980 - loss: 0.0117 - val_accuracy: 1.0000 - val_loss: 3.3972e-04 - learning_rate: 0.0010\n",
            "Epoch 9/100\n",
            "\u001b[1m100/100\u001b[0m \u001b[32m━━━━━━━━━━━━━━━━━━━━\u001b[0m\u001b[37m\u001b[0m \u001b[1m9s\u001b[0m 90ms/step - accuracy: 0.9981 - loss: 0.0116 - val_accuracy: 0.9969 - val_loss: 0.0255 - learning_rate: 0.0010\n",
            "Epoch 10/100\n",
            "\u001b[1m100/100\u001b[0m \u001b[32m━━━━━━━━━━━━━━━━━━━━\u001b[0m\u001b[37m\u001b[0m \u001b[1m9s\u001b[0m 90ms/step - accuracy: 0.9982 - loss: 0.0074 - val_accuracy: 0.9984 - val_loss: 0.0036 - learning_rate: 0.0010\n",
            "Epoch 11/100\n",
            "\u001b[1m100/100\u001b[0m \u001b[32m━━━━━━━━━━━━━━━━━━━━\u001b[0m\u001b[37m\u001b[0m \u001b[1m9s\u001b[0m 89ms/step - accuracy: 0.9994 - loss: 0.0017 - val_accuracy: 0.9984 - val_loss: 0.0023 - learning_rate: 5.0000e-04\n",
            "Epoch 12/100\n",
            "\u001b[1m100/100\u001b[0m \u001b[32m━━━━━━━━━━━━━━━━━━━━\u001b[0m\u001b[37m\u001b[0m \u001b[1m9s\u001b[0m 90ms/step - accuracy: 0.9997 - loss: 4.5804e-04 - val_accuracy: 1.0000 - val_loss: 4.1645e-05 - learning_rate: 5.0000e-04\n",
            "Epoch 13/100\n",
            "\u001b[1m100/100\u001b[0m \u001b[32m━━━━━━━━━━━━━━━━━━━━\u001b[0m\u001b[37m\u001b[0m \u001b[1m10s\u001b[0m 91ms/step - accuracy: 0.9998 - loss: 7.5027e-04 - val_accuracy: 1.0000 - val_loss: 1.5888e-07 - learning_rate: 5.0000e-04\n"
          ]
        }
      ]
    },
    {
      "cell_type": "code",
      "source": [
        "model.save('cnn_B.keras')"
      ],
      "metadata": {
        "id": "fAmPrJT2h0k_"
      },
      "execution_count": null,
      "outputs": []
    },
    {
      "cell_type": "code",
      "source": [
        "# model = load_model('./models/cnn_B.keras')\n",
        "baseline_model = clone_model(model)"
      ],
      "metadata": {
        "id": "QhVACU_rgQpt"
      },
      "execution_count": 7,
      "outputs": []
    },
    {
      "cell_type": "code",
      "source": [
        "# # Training the baseline model\n",
        "\n",
        "tf.keras.backend.clear_session()\n",
        "\n",
        "# Unclear if these are mutated from the last call, so we'll just recreate.\n",
        "early_stopping = EarlyStopping(monitor='val_accuracy', patience=5, restore_best_weights=True)\n",
        "reduce_lr = ReduceLROnPlateau(monitor='val_loss', factor=0.5, patience=2, min_lr=1e-6)\n",
        "\n",
        "# Compile from the same config\n",
        "baseline_model.compile_from_config(model.get_compile_config())\n",
        "\n",
        "history = baseline_model.fit(training.baseline_data,\n",
        "    epochs=TRAIN_NUM_BATCHES,\n",
        "    batch_size=TRAIN_BATCH_SIZE,\n",
        "    validation_data=validation.baseline_data,\n",
        "    callbacks=[early_stopping, reduce_lr]\n",
        ")"
      ],
      "metadata": {
        "id": "FaofCJB_h3NQ",
        "outputId": "7d793b81-51e2-4050-a915-0170be2f86f4",
        "colab": {
          "base_uri": "https://localhost:8080/"
        }
      },
      "execution_count": 13,
      "outputs": [
        {
          "output_type": "stream",
          "name": "stdout",
          "text": [
            "Epoch 1/100\n",
            "\u001b[1m100/100\u001b[0m \u001b[32m━━━━━━━━━━━━━━━━━━━━\u001b[0m\u001b[37m\u001b[0m \u001b[1m20s\u001b[0m 57ms/step - accuracy: 0.6719 - loss: 2.1380 - val_accuracy: 0.9984 - val_loss: 0.0145 - learning_rate: 5.0000e-04\n",
            "Epoch 2/100\n",
            "\u001b[1m100/100\u001b[0m \u001b[32m━━━━━━━━━━━━━━━━━━━━\u001b[0m\u001b[37m\u001b[0m \u001b[1m2s\u001b[0m 22ms/step - accuracy: 0.9901 - loss: 0.1020 - val_accuracy: 1.0000 - val_loss: 2.6371e-04 - learning_rate: 5.0000e-04\n",
            "Epoch 3/100\n",
            "\u001b[1m100/100\u001b[0m \u001b[32m━━━━━━━━━━━━━━━━━━━━\u001b[0m\u001b[37m\u001b[0m \u001b[1m2s\u001b[0m 22ms/step - accuracy: 1.0000 - loss: 9.1860e-05 - val_accuracy: 1.0000 - val_loss: 1.0091e-05 - learning_rate: 5.0000e-04\n",
            "Epoch 4/100\n",
            "\u001b[1m100/100\u001b[0m \u001b[32m━━━━━━━━━━━━━━━━━━━━\u001b[0m\u001b[37m\u001b[0m \u001b[1m2s\u001b[0m 22ms/step - accuracy: 1.0000 - loss: 3.2771e-06 - val_accuracy: 1.0000 - val_loss: 4.0605e-07 - learning_rate: 5.0000e-04\n",
            "Epoch 5/100\n",
            "\u001b[1m100/100\u001b[0m \u001b[32m━━━━━━━━━━━━━━━━━━━━\u001b[0m\u001b[37m\u001b[0m \u001b[1m2s\u001b[0m 22ms/step - accuracy: 1.0000 - loss: 1.7748e-06 - val_accuracy: 1.0000 - val_loss: 2.3340e-06 - learning_rate: 5.0000e-04\n",
            "Epoch 6/100\n",
            "\u001b[1m100/100\u001b[0m \u001b[32m━━━━━━━━━━━━━━━━━━━━\u001b[0m\u001b[37m\u001b[0m \u001b[1m2s\u001b[0m 22ms/step - accuracy: 1.0000 - loss: 3.7856e-07 - val_accuracy: 1.0000 - val_loss: 3.2391e-07 - learning_rate: 2.5000e-04\n",
            "Epoch 7/100\n",
            "\u001b[1m100/100\u001b[0m \u001b[32m━━━━━━━━━━━━━━━━━━━━\u001b[0m\u001b[37m\u001b[0m \u001b[1m2s\u001b[0m 22ms/step - accuracy: 1.0000 - loss: 5.0279e-07 - val_accuracy: 1.0000 - val_loss: 2.3320e-07 - learning_rate: 2.5000e-04\n"
          ]
        }
      ]
    },
    {
      "cell_type": "code",
      "source": [
        "baseline_model.save('/content/cnn_B_baseline.keras')"
      ],
      "metadata": {
        "id": "p0bzCnbIkxjU"
      },
      "execution_count": 14,
      "outputs": []
    }
  ]
}